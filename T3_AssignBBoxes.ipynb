{
 "cells": [
  {
   "cell_type": "code",
   "execution_count": 1,
   "metadata": {
    "collapsed": true
   },
   "outputs": [],
   "source": [
    "# TODO: BBoxes assignment\n",
    "import numpy as np\n",
    "import tensorflow as tf\n",
    "import pickle"
   ]
  },
  {
   "cell_type": "code",
   "execution_count": 24,
   "metadata": {
    "collapsed": true
   },
   "outputs": [],
   "source": [
    "# (total, num_box + num_variance)\n",
    "# pre-calculate anchor boxes with each of conv-layers\n",
    "priors = pickle.load(open('prior_boxes_ssd300.pkl', 'rb'))\n",
    "NUM_CLASSES = 20\n",
    "# for bboxes usage\n",
    "num_classes = NUM_CLASSES + 1\n",
    "num_priors = len(priors)\n",
    "overlap_threshold = 0.5"
   ]
  },
  {
   "cell_type": "markdown",
   "metadata": {},
   "source": [
    "## Assign encoded boxes (which's all relative to offset)\n",
    "In the beggining, I was wonder meaning of encoded-boxes.<br/>\n",
    "Here is my understanding:\n",
    "- We only choose the best IOU results from offset of 'priors' and 'ground-truth-boxes' center and apply variance in each of results."
   ]
  },
  {
   "cell_type": "code",
   "execution_count": 13,
   "metadata": {
    "collapsed": true
   },
   "outputs": [],
   "source": [
    "# compute each of boxes iou with ground-truth-box\n",
    "# iou = intersection_area / union_area\n",
    "def compute_iou(box):\n",
    "    def compute_inner():\n",
    "        inter_upleft = np.maximum(priors[:, :2], box[:2])\n",
    "        inter_botright = np.minimum(priors[:, 2:4], box[2:])\n",
    "        inter_wh = inter_botright - inter_upleft\n",
    "        # prevent negative\n",
    "        inter_wh = np.maximum(inter_wh, 0)\n",
    "        inter = inter_wh[:, 0] * inter_wh[:, 1]\n",
    "        return inter\n",
    "    def compute_union(inter):\n",
    "        area_gt = (box[2] - box[0]) * (box[3] - box[1])\n",
    "        area_pred = (priors[:, 2] - priors[:, 0]) * (priors[:, 3] - priors[:, 1])\n",
    "        union = area_pred + area_gt - inter\n",
    "        return union\n",
    "    \n",
    "    inter = compute_inner()\n",
    "    union = compute_union(inter)\n",
    "    iou = inter / union\n",
    "    \n",
    "    return iou"
   ]
  },
  {
   "cell_type": "code",
   "execution_count": 36,
   "metadata": {
    "collapsed": true
   },
   "outputs": [],
   "source": [
    "def encode_box(box, return_iou=True):\n",
    "    # (7308,)\n",
    "    iou = compute_iou(box)\n",
    "    # (7308, 4+1)\n",
    "    encoded_box = np.zeros((num_priors, 4 + return_iou))\n",
    "    # True, False array with shape of (7308,)\n",
    "    assign_mask = iou > overlap_threshold\n",
    "    # if all False, then pick the best from iou\n",
    "    if not assign_mask.any():\n",
    "        assign_mask[iou.argmax()] = True\n",
    "    if return_iou:\n",
    "        encoded_box[:, -1][assign_mask] = iou[assign_mask]\n",
    "    # positive box\n",
    "    assigned_priors = priors[assign_mask]\n",
    "    # get ground-truth-box center (x,y)\n",
    "    # [x, y]\n",
    "    box_center = 0.5 * (box[:2] + box[2:])\n",
    "    # [w, h]\n",
    "    box_wh = box[2:] - box[:2]\n",
    "    assigned_priors_center = 0.5 * (assigned_priors[:, :2] + assigned_priors[:, 2:4])\n",
    "    assigned_priors_wh = assigned_priors[:, 2:4] - assigned_priors[:, :2]\n",
    "    # encode variance\n",
    "    # center part\n",
    "    encoded_box[:, :2][assign_mask] = (box_center - assigned_priors_center) / (assigned_priors_wh * assigned_priors[:, -4:-2])\n",
    "    # get ratio of width and height between ground-truth and positive_prior_boxes\n",
    "    encoded_box[:, 2:4][assign_mask] = np.log(box_wh / assigned_priors_wh) / assigned_priors[:, -2:]\n",
    "    # flatten\n",
    "    return encoded_box.ravel()"
   ]
  },
  {
   "cell_type": "code",
   "execution_count": 47,
   "metadata": {},
   "outputs": [],
   "source": [
    "# Assign the best prior box data which's iou > threshold(0.5), the data is following\n",
    "# 1. (x, y) which's offset between prior-boxes and ground-truth-boxes center\n",
    "# 2. classes\n",
    "# 3. whether should be penalized in loss function.\n",
    "def assign_boxes(boxes):\n",
    "    assignment = np.zeros((num_priors, 4 + num_classes + 8))\n",
    "    # background classid\n",
    "    assignment[:, 4] = 1.0\n",
    "    if len(boxes) == 0:\n",
    "        return assignment\n",
    "    # shape of (1, 36540)\n",
    "    encoded_boxes = np.apply_along_axis(encode_box, 1, boxes[:, :4])\n",
    "    encoded_boxes = encoded_boxes.reshape(-1, num_priors, 5)\n",
    "    # find the best one from each rows\n",
    "    best_iou = encoded_boxes[:, :, -1].max(axis=0)\n",
    "    best_iou_idx = encoded_boxes[:, :, -1].argmax(axis=0)\n",
    "    best_iou_mask = best_iou > 0\n",
    "    best_iou_idx = best_iou_idx[best_iou_mask]\n",
    "    assign_num = len(best_iou_idx)\n",
    "    encoded_boxes = encoded_boxes[:, best_iou_mask, :]\n",
    "    assignment[:, :4][best_iou_mask] = encoded_boxes[best_iou_idx, np.arange(assign_num), :4]\n",
    "    # mark as non-background\n",
    "    assignment[:, 4][best_iou_mask] = 0\n",
    "    # classes\n",
    "    assignment[:, 5:-8][best_iou_mask] = boxes[best_iou_idx, 4:]\n",
    "    assignment[:, -8][best_iou_mask] = 1\n",
    "    return assignment"
   ]
  },
  {
   "cell_type": "code",
   "execution_count": 49,
   "metadata": {},
   "outputs": [
    {
     "data": {
      "text/plain": [
       "(7308, 33)"
      ]
     },
     "execution_count": 49,
     "metadata": {},
     "output_type": "execute_result"
    }
   ],
   "source": [
    "# test box\n",
    "classes = np.zeros((20, 1))\n",
    "classes[1] = 1.0\n",
    "boxes = np.array([50, 30, 200, 230], dtype='float32') / 300.\n",
    "boxes = np.append(boxes, classes)\n",
    "boxes = np.expand_dims(boxes, 0)\n",
    "\n",
    "assign_boxes(boxes).shape"
   ]
  }
 ],
 "metadata": {
  "kernelspec": {
   "display_name": "Python 2",
   "language": "python",
   "name": "python2"
  },
  "language_info": {
   "codemirror_mode": {
    "name": "ipython",
    "version": 2
   },
   "file_extension": ".py",
   "mimetype": "text/x-python",
   "name": "python",
   "nbconvert_exporter": "python",
   "pygments_lexer": "ipython2",
   "version": "2.7.14"
  }
 },
 "nbformat": 4,
 "nbformat_minor": 2
}
