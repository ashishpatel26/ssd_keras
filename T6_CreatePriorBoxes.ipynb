{
 "cells": [
  {
   "cell_type": "code",
   "execution_count": 1,
   "metadata": {
    "collapsed": true
   },
   "outputs": [],
   "source": [
    "# TODO: Create PriorBox\n",
    "import pickle\n",
    "import numpy as np"
   ]
  },
  {
   "cell_type": "code",
   "execution_count": 2,
   "metadata": {
    "collapsed": true
   },
   "outputs": [],
   "source": [
    "def create_prior_boxes(box_configs, img_size, variances):\n",
    "    img_width, img_height = img_size\n",
    "    boxes_datas = []\n",
    "    for layer_config in box_configs:\n",
    "        boxes_data = []\n",
    "        layer_width = layer_config['layer_width']\n",
    "        layer_height = layer_config['layer_height']\n",
    "\n",
    "        num_priors = layer_config['num_prior']\n",
    "        aspect_ratios = layer_config['aspect_ratios']\n",
    "\n",
    "        min_size = layer_config['min_size']\n",
    "        max_size = layer_config['max_size']\n",
    "\n",
    "        step_x = float(img_width) / float(layer_width)\n",
    "        step_y = float(img_height) / float(layer_height)\n",
    "        # series center of boxes\n",
    "        linx = np.linspace(0.5 * step_x, img_width - 0.5 * step_x, layer_width)\n",
    "        liny = np.linspace(0.5 * step_y, img_height - 0.5 * step_y, layer_height)\n",
    "\n",
    "        centers_x, centers_y = np.meshgrid(linx, liny)\n",
    "        centers_x = centers_x.reshape(-1, 1)\n",
    "        centers_y = centers_y.reshape(-1, 1)\n",
    "        # each element is (x,y) location with shape of (n,1)\n",
    "        prior_boxes = np.concatenate((centers_x, centers_y), axis=1)\n",
    "        # tile shape to (n, 2 * num_priors)\n",
    "        prior_boxes = np.tile(prior_boxes, (1, 2 * num_priors))\n",
    "\n",
    "        box_widths = []\n",
    "        box_heights = []\n",
    "        # traverse each of aspect ratios\n",
    "        # then get corresponding width and height of each boxes\n",
    "        for ar in aspect_ratios:\n",
    "            if ar == 1 and len(box_widths) == 0:\n",
    "                box_widths.append(min_size)\n",
    "                box_heights.append(min_size)\n",
    "            elif ar == 1 and len(box_widths) > 0:\n",
    "                box_widths.append(np.sqrt(min_size * max_size))\n",
    "                box_heights.append(np.sqrt(min_size * max_size))\n",
    "            elif ar != 1:\n",
    "                box_widths.append(min_size * np.sqrt(ar))\n",
    "                box_heights.append(min_size / np.sqrt(ar))\n",
    "        # because we need to get corner location by center\n",
    "        # so we have to half of length\n",
    "        box_widths = 0.5 * np.array(box_widths)\n",
    "        box_heights = 0.5 * np.array(box_heights)\n",
    "\n",
    "        # min_x\n",
    "        prior_boxes[:, ::4] -= box_widths\n",
    "        # min_y\n",
    "        prior_boxes[:, 1::4] -= box_heights\n",
    "        # max_x\n",
    "        prior_boxes[:, 2::4] += box_widths\n",
    "        # max_y\n",
    "        prior_boxes[:, 3::4] += box_heights\n",
    "        # normalize to [0-1]\n",
    "        prior_boxes[:, ::2] /= img_width\n",
    "        prior_boxes[:, 1::2] /= img_height\n",
    "\n",
    "        prior_boxes = prior_boxes.reshape(-1, 4)\n",
    "        # clip to 0-1\n",
    "        prior_boxes = np.minimum(np.maximum(prior_boxes, 0.0), 1.0)\n",
    "        prior_variances = np.tile(variances, (len(prior_boxes), 1))\n",
    "        boxes_data = np.concatenate((prior_boxes, prior_variances), axis=1)\n",
    "        boxes_datas.append(boxes_data)\n",
    "        \n",
    "    return np.concatenate(boxes_datas, axis=0)"
   ]
  },
  {
   "cell_type": "code",
   "execution_count": 3,
   "metadata": {
    "collapsed": true
   },
   "outputs": [],
   "source": [
    "def save_prior_boxes(box_configs, img_size, variances, path):\n",
    "    boxes_priors = create_prior_boxes(box_configs, img_size, variances)\n",
    "    pickle.dump(boxes_priors, open(path, 'wb'))"
   ]
  },
  {
   "cell_type": "code",
   "execution_count": 4,
   "metadata": {},
   "outputs": [],
   "source": [
    "# test it\n",
    "box_configs = [\n",
    "    {'layer_width': 38, 'layer_height': 38, 'num_prior': 3, 'min_size':  30.0,\n",
    "     'max_size': None, 'aspect_ratios': [1.0, 2.0, 1/2.0]},\n",
    "    {'layer_width': 19, 'layer_height': 19, 'num_prior': 6, 'min_size':  60.0,\n",
    "     'max_size': 114.0, 'aspect_ratios': [1.0, 1.0, 2.0, 1/2.0, 3.0, 1/3.0]},\n",
    "    {'layer_width': 10, 'layer_height': 10, 'num_prior': 6, 'min_size': 114.0,\n",
    "     'max_size': 168.0, 'aspect_ratios': [1.0, 1.0, 2.0, 1/2.0, 3.0, 1/3.0]},\n",
    "    {'layer_width':  5, 'layer_height':  5, 'num_prior': 6, 'min_size': 168.0,\n",
    "     'max_size': 222.0, 'aspect_ratios': [1.0, 1.0, 2.0, 1/2.0, 3.0, 1/3.0]},\n",
    "    {'layer_width':  3, 'layer_height':  3, 'num_prior': 6, 'min_size': 222.0,\n",
    "     'max_size': 276.0, 'aspect_ratios': [1.0, 1.0, 2.0, 1/2.0, 3.0, 1/3.0]},\n",
    "    {'layer_width':  1, 'layer_height':  1, 'num_prior': 6, 'min_size': 276.0,\n",
    "     'max_size': 330.0, 'aspect_ratios': [1.0, 1.0, 2.0, 1/2.0, 3.0, 1/3.0]},\n",
    "]\n",
    "img_size = (300, 300)\n",
    "variances = [0.1, 0.1, 0.2, 0.2]\n",
    "path = 'prior_boxes_own.pkl'\n",
    "save_prior_boxes(box_configs, img_size, variances, path)"
   ]
  },
  {
   "cell_type": "code",
   "execution_count": null,
   "metadata": {
    "collapsed": true
   },
   "outputs": [],
   "source": []
  }
 ],
 "metadata": {
  "kernelspec": {
   "display_name": "Python 2",
   "language": "python",
   "name": "python2"
  },
  "language_info": {
   "codemirror_mode": {
    "name": "ipython",
    "version": 2
   },
   "file_extension": ".py",
   "mimetype": "text/x-python",
   "name": "python",
   "nbconvert_exporter": "python",
   "pygments_lexer": "ipython2",
   "version": "2.7.14"
  }
 },
 "nbformat": 4,
 "nbformat_minor": 2
}
